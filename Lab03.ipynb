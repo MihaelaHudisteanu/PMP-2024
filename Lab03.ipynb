{
  "nbformat": 4,
  "nbformat_minor": 0,
  "metadata": {
    "colab": {
      "provenance": [],
      "authorship_tag": "ABX9TyMDVINBjquhkPY30MSVIhEv",
      "include_colab_link": true
    },
    "kernelspec": {
      "name": "python3",
      "display_name": "Python 3"
    },
    "language_info": {
      "name": "python"
    }
  },
  "cells": [
    {
      "cell_type": "markdown",
      "metadata": {
        "id": "view-in-github",
        "colab_type": "text"
      },
      "source": [
        "<a href=\"https://colab.research.google.com/github/MihaelaHudisteanu/PMP-2024/blob/main/Lab03.ipynb\" target=\"_parent\"><img src=\"https://colab.research.google.com/assets/colab-badge.svg\" alt=\"Open In Colab\"/></a>"
      ]
    },
    {
      "cell_type": "code",
      "execution_count": null,
      "metadata": {
        "id": "JoO6RLEur0Da"
      },
      "outputs": [],
      "source": [
        "from pgmpy.models import BayesianNetwork\n",
        "from pgmpy.factors.discrete import TabularCPD\n",
        "import networkx as nx\n",
        "\n",
        "mail_model = BayesianNetwork([('S', 'O'), ('S', 'L'), ('S', 'M'),\n",
        "('L', 'M')])\n",
        "\n",
        "pos = nx.circular_layout(mail_model)\n",
        "nx.draw(mail_model, with_labels=True, pos=pos, alpha=0.5, node_size=2000)"
      ]
    },
    {
      "cell_type": "code",
      "source": [
        "CPD_S = TabularCPD(variable='S', variable_card=2, values=[[0.6], [0.4]])\n",
        "\n",
        "CPD_O = TabularCPD(variable='O', variable_card=2\n",
        ",values=[[0.9, 0.3],\n",
        "[0.1, 0.7]],\n",
        "evidence=['S'],\n",
        "evidence_card=[2])\n",
        "\n",
        "CPD_L = TabularCPD(variable='L', variable_card=2\n",
        ",values=[[0.7, 0.2],\n",
        "[0.3, 0.8]],\n",
        "evidence=['S'],\n",
        "evidence_card=[2])\n",
        "\n",
        "CPD_M = TabularCPD(variable='M', variable_card=2\n",
        ",values=[[0.8, 0.4, 0.5 , 0.1],\n",
        "[0.2, 0.6, 0.5 , 0.9]],\n",
        "evidence=['S', 'L'],\n",
        "evidence_card=[2, 2])\n",
        "\n",
        "mail_model.add_cpds(CPD_S, CPD_O, CPD_L, CPD_M)\n",
        "mail_model.get_cpds()\n",
        "\n",
        "mail_model.check_model()\n",
        "\n",
        "mail_model.local_independencies(['S','O','L','M'])\n"
      ],
      "metadata": {
        "colab": {
          "base_uri": "https://localhost:8080/"
        },
        "id": "ACyySocFuC17",
        "outputId": "80a00d7a-8842-4b82-f1dd-c6a679cb8773"
      },
      "execution_count": 15,
      "outputs": [
        {
          "output_type": "stream",
          "name": "stderr",
          "text": [
            "WARNING:pgmpy:Replacing existing CPD for S\n",
            "WARNING:pgmpy:Replacing existing CPD for O\n",
            "WARNING:pgmpy:Replacing existing CPD for L\n",
            "WARNING:pgmpy:Replacing existing CPD for M\n"
          ]
        },
        {
          "output_type": "execute_result",
          "data": {
            "text/plain": [
              "(O ⟂ M, L | S)\n",
              "(L ⟂ O | S)\n",
              "(M ⟂ O | L, S)"
            ]
          },
          "metadata": {},
          "execution_count": 15
        }
      ]
    },
    {
      "cell_type": "code",
      "source": [
        "from pgmpy.inference import VariableElimination\n",
        "\n",
        "infer = VariableElimination(mail_model)\n",
        "posterior_p = infer.query([\"O\",\"L\", \"M\"])\n",
        "print(posterior_p)"
      ],
      "metadata": {
        "colab": {
          "base_uri": "https://localhost:8080/"
        },
        "id": "FkqWmBn-wjOG",
        "outputId": "1ea570cc-8dfc-46ac-d447-4752e49ad610"
      },
      "execution_count": 14,
      "outputs": [
        {
          "output_type": "stream",
          "name": "stdout",
          "text": [
            "+------+------+------+--------------+\n",
            "| O    | L    | M    |   phi(O,L,M) |\n",
            "+======+======+======+==============+\n",
            "| O(0) | L(0) | M(0) |       0.3144 |\n",
            "+------+------+------+--------------+\n",
            "| O(0) | L(0) | M(1) |       0.0876 |\n",
            "+------+------+------+--------------+\n",
            "| O(0) | L(1) | M(0) |       0.0744 |\n",
            "+------+------+------+--------------+\n",
            "| O(0) | L(1) | M(1) |       0.1836 |\n",
            "+------+------+------+--------------+\n",
            "| O(1) | L(0) | M(0) |       0.0616 |\n",
            "+------+------+------+--------------+\n",
            "| O(1) | L(0) | M(1) |       0.0364 |\n",
            "+------+------+------+--------------+\n",
            "| O(1) | L(1) | M(0) |       0.0296 |\n",
            "+------+------+------+--------------+\n",
            "| O(1) | L(1) | M(1) |       0.2124 |\n",
            "+------+------+------+--------------+\n"
          ]
        }
      ]
    }
  ]
}