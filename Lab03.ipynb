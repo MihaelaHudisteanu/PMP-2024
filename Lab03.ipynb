{
  "nbformat": 4,
  "nbformat_minor": 0,
  "metadata": {
    "colab": {
      "provenance": [],
      "authorship_tag": "ABX9TyMm2CTFfhlLx3UgrmfNIa1K",
      "include_colab_link": true
    },
    "kernelspec": {
      "name": "python3",
      "display_name": "Python 3"
    },
    "language_info": {
      "name": "python"
    }
  },
  "cells": [
    {
      "cell_type": "markdown",
      "metadata": {
        "id": "view-in-github",
        "colab_type": "text"
      },
      "source": [
        "<a href=\"https://colab.research.google.com/github/MihaelaHudisteanu/PMP-2024/blob/main/Lab03.ipynb\" target=\"_parent\"><img src=\"https://colab.research.google.com/assets/colab-badge.svg\" alt=\"Open In Colab\"/></a>"
      ]
    },
    {
      "cell_type": "code",
      "execution_count": null,
      "metadata": {
        "id": "JoO6RLEur0Da"
      },
      "outputs": [],
      "source": [
        "from pgmpy.models import BayesianNetwork\n",
        "from pgmpy.factors.discrete import TabularCPD\n",
        "import networkx as nx\n",
        "\n",
        "mail_model = BayesianNetwork([('S', 'O'), ('S', 'L'), ('S', 'M'),\n",
        "('L', 'M')])\n",
        "\n",
        "pos = nx.circular_layout(mail_model)\n",
        "nx.draw(mail_model, with_labels=True, pos=pos, alpha=0.5, node_size=2000)"
      ]
    },
    {
      "cell_type": "code",
      "source": [
        "CPD_S = TabularCPD(variable='S', variable_card=2, values=[[0.6], [0.4]])\n",
        "\n",
        "CPD_O = TabularCPD(variable='O', variable_card=2\n",
        ",values=[[0.9, 0.3],\n",
        "[0.1, 0.7]],\n",
        "evidence=['S'],\n",
        "evidence_card=[2])\n",
        "\n",
        "CPD_L = TabularCPD(variable='L', variable_card=2\n",
        ",values=[[0.7, 0.2],\n",
        "[0.3, 0.8]],\n",
        "evidence=['S'],\n",
        "evidence_card=[2])\n",
        "\n",
        "CPD_M = TabularCPD(variable='M', variable_card=2\n",
        ",values=[[0.8, 0.4, 0.5 , 0.1],\n",
        "[0.2, 0.6, 0.5 , 0.9]],\n",
        "evidence=['S', 'L'],\n",
        "evidence_card=[2, 2])\n",
        "\n",
        "mail_model.add_cpds(CPD_S, CPD_O, CPD_L, CPD_M)\n",
        "mail_model.get_cpds()\n",
        "\n",
        "mail_model.check_model()\n",
        "\n",
        "mail_model.local_independencies(['S','O','L','M'])\n"
      ],
      "metadata": {
        "id": "ACyySocFuC17"
      },
      "execution_count": null,
      "outputs": []
    },
    {
      "cell_type": "code",
      "source": [
        "from pgmpy.inference import VariableElimination\n",
        "\n",
        "infer = VariableElimination(mail_model)\n",
        "for i in range(2):\n",
        "  for j in range(2):\n",
        "    for k in range(2):\n",
        "      posterior_p = infer.query([\"S\"], evidence={\"O\": i,\"L\": j, \"M\": k})\n",
        "      print(posterior_p)"
      ],
      "metadata": {
        "colab": {
          "base_uri": "https://localhost:8080/"
        },
        "id": "FkqWmBn-wjOG",
        "outputId": "efa72d87-b187-4725-94fc-05ff32255de7"
      },
      "execution_count": 18,
      "outputs": [
        {
          "output_type": "stream",
          "name": "stdout",
          "text": [
            "+------+----------+\n",
            "| S    |   phi(S) |\n",
            "+======+==========+\n",
            "| S(0) |   0.9618 |\n",
            "+------+----------+\n",
            "| S(1) |   0.0382 |\n",
            "+------+----------+\n",
            "+------+----------+\n",
            "| S    |   phi(S) |\n",
            "+======+==========+\n",
            "| S(0) |   0.8630 |\n",
            "+------+----------+\n",
            "| S(1) |   0.1370 |\n",
            "+------+----------+\n",
            "+------+----------+\n",
            "| S    |   phi(S) |\n",
            "+======+==========+\n",
            "| S(0) |   0.8710 |\n",
            "+------+----------+\n",
            "| S(1) |   0.1290 |\n",
            "+------+----------+\n",
            "+------+----------+\n",
            "| S    |   phi(S) |\n",
            "+======+==========+\n",
            "| S(0) |   0.5294 |\n",
            "+------+----------+\n",
            "| S(1) |   0.4706 |\n",
            "+------+----------+\n",
            "+------+----------+\n",
            "| S    |   phi(S) |\n",
            "+======+==========+\n",
            "| S(0) |   0.5455 |\n",
            "+------+----------+\n",
            "| S(1) |   0.4545 |\n",
            "+------+----------+\n",
            "+------+----------+\n",
            "| S    |   phi(S) |\n",
            "+======+==========+\n",
            "| S(0) |   0.2308 |\n",
            "+------+----------+\n",
            "| S(1) |   0.7692 |\n",
            "+------+----------+\n",
            "+------+----------+\n",
            "| S    |   phi(S) |\n",
            "+======+==========+\n",
            "| S(0) |   0.2432 |\n",
            "+------+----------+\n",
            "| S(1) |   0.7568 |\n",
            "+------+----------+\n",
            "+------+----------+\n",
            "| S    |   phi(S) |\n",
            "+======+==========+\n",
            "| S(0) |   0.0508 |\n",
            "+------+----------+\n",
            "| S(1) |   0.9492 |\n",
            "+------+----------+\n"
          ]
        }
      ]
    }
  ]
}