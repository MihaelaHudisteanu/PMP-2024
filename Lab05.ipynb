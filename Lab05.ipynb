{
  "nbformat": 4,
  "nbformat_minor": 0,
  "metadata": {
    "colab": {
      "provenance": [],
      "authorship_tag": "ABX9TyNh+bQcICN95jj7H/6esMzL",
      "include_colab_link": true
    },
    "kernelspec": {
      "name": "python3",
      "display_name": "Python 3"
    },
    "language_info": {
      "name": "python"
    }
  },
  "cells": [
    {
      "cell_type": "markdown",
      "metadata": {
        "id": "view-in-github",
        "colab_type": "text"
      },
      "source": [
        "<a href=\"https://colab.research.google.com/github/MihaelaHudisteanu/PMP-2024/blob/main/Lab05.ipynb\" target=\"_parent\"><img src=\"https://colab.research.google.com/assets/colab-badge.svg\" alt=\"Open In Colab\"/></a>"
      ]
    },
    {
      "cell_type": "code",
      "source": [
        "!pip install hmmlearn"
      ],
      "metadata": {
        "colab": {
          "base_uri": "https://localhost:8080/"
        },
        "id": "tRYucyfZC7qs",
        "outputId": "8b1caab7-aad5-4ac2-ff1f-180cd9ca7a3b"
      },
      "execution_count": 3,
      "outputs": [
        {
          "output_type": "stream",
          "name": "stdout",
          "text": [
            "Collecting hmmlearn\n",
            "  Downloading hmmlearn-0.3.2-cp310-cp310-manylinux_2_17_x86_64.manylinux2014_x86_64.whl.metadata (2.9 kB)\n",
            "Requirement already satisfied: numpy>=1.10 in /usr/local/lib/python3.10/dist-packages (from hmmlearn) (1.26.4)\n",
            "Requirement already satisfied: scikit-learn!=0.22.0,>=0.16 in /usr/local/lib/python3.10/dist-packages (from hmmlearn) (1.5.2)\n",
            "Requirement already satisfied: scipy>=0.19 in /usr/local/lib/python3.10/dist-packages (from hmmlearn) (1.13.1)\n",
            "Requirement already satisfied: joblib>=1.2.0 in /usr/local/lib/python3.10/dist-packages (from scikit-learn!=0.22.0,>=0.16->hmmlearn) (1.4.2)\n",
            "Requirement already satisfied: threadpoolctl>=3.1.0 in /usr/local/lib/python3.10/dist-packages (from scikit-learn!=0.22.0,>=0.16->hmmlearn) (3.5.0)\n",
            "Downloading hmmlearn-0.3.2-cp310-cp310-manylinux_2_17_x86_64.manylinux2014_x86_64.whl (161 kB)\n",
            "\u001b[?25l   \u001b[90m━━━━━━━━━━━━━━━━━━━━━━━━━━━━━━━━━━━━━━━━\u001b[0m \u001b[32m0.0/161.1 kB\u001b[0m \u001b[31m?\u001b[0m eta \u001b[36m-:--:--\u001b[0m\r\u001b[2K   \u001b[91m━━━━━━━━━━━━━━━━━━━━━━━━━━━━━━━━━━━━━━\u001b[0m\u001b[90m╺\u001b[0m\u001b[90m━\u001b[0m \u001b[32m153.6/161.1 kB\u001b[0m \u001b[31m5.0 MB/s\u001b[0m eta \u001b[36m0:00:01\u001b[0m\r\u001b[2K   \u001b[90m━━━━━━━━━━━━━━━━━━━━━━━━━━━━━━━━━━━━━━━━\u001b[0m \u001b[32m161.1/161.1 kB\u001b[0m \u001b[31m3.6 MB/s\u001b[0m eta \u001b[36m0:00:00\u001b[0m\n",
            "\u001b[?25hInstalling collected packages: hmmlearn\n",
            "Successfully installed hmmlearn-0.3.2\n"
          ]
        }
      ]
    },
    {
      "cell_type": "code",
      "execution_count": 4,
      "metadata": {
        "id": "WgEhnppOCYE5"
      },
      "outputs": [],
      "source": [
        "# import the necessary libraries\n",
        "import numpy as np\n",
        "import matplotlib.pyplot as plt\n",
        "import seaborn as sns\n",
        "from hmmlearn import hmm\n"
      ]
    },
    {
      "cell_type": "code",
      "source": [
        "states = [\"dificil\", \"mediu\", \"usor\"]\n",
        "n_states = len(states)\n",
        "print('Number of hidden states :',n_states)\n",
        "observations = [\"FB\", \"B\", \"S\", \"NS\"]\n",
        "n_observations = len(observations)\n",
        "print('Number of observations :',n_observations)\n"
      ],
      "metadata": {
        "colab": {
          "base_uri": "https://localhost:8080/"
        },
        "id": "9f48ofk3CcoX",
        "outputId": "095c7636-f146-4ec7-8891-cb6b843c8862"
      },
      "execution_count": 5,
      "outputs": [
        {
          "output_type": "stream",
          "name": "stdout",
          "text": [
            "Number of hidden states : 3\n",
            "Number of observations : 4\n"
          ]
        }
      ]
    },
    {
      "cell_type": "code",
      "source": [
        "state_probability = np.array([1/3, 1/3, 1/3])\n",
        "print(\"State probability: \", state_probability)\n",
        "\n",
        "# Define the state transition probabilities\n",
        "transition_probability = np.array([[0, 0.5, 0.5],\n",
        "\t\t\t\t\t\t\t\t[0.5, 0.25, 0.25],\n",
        "                [0.5, 0.25, 0.25]])\n",
        "print(\"\\nTransition probability:\\n\", transition_probability)\n",
        "# Define the observation likelihoods\n",
        "emission_probability= np.array([[0.1, 0.2, 0.4, 0.3],\n",
        "\t\t\t\t\t\t\t\t[0.15, 0.25, 0.5, 0.1],\n",
        "                [0.2, 0.3, 0.4, 0.1]])\n",
        "print(\"\\nEmission probability:\\n\", emission_probability)\n"
      ],
      "metadata": {
        "colab": {
          "base_uri": "https://localhost:8080/"
        },
        "id": "a20MD-TsDEZH",
        "outputId": "92ff65f6-d57f-49d6-e260-b1f9119004f8"
      },
      "execution_count": 6,
      "outputs": [
        {
          "output_type": "stream",
          "name": "stdout",
          "text": [
            "State probability:  [0.33333333 0.33333333 0.33333333]\n",
            "\n",
            "Transition probability:\n",
            " [[0.   0.5  0.5 ]\n",
            " [0.5  0.25 0.25]\n",
            " [0.5  0.25 0.25]]\n",
            "\n",
            "Emission probability:\n",
            " [[0.1  0.2  0.4  0.3 ]\n",
            " [0.15 0.25 0.5  0.1 ]\n",
            " [0.2  0.3  0.4  0.1 ]]\n"
          ]
        }
      ]
    },
    {
      "cell_type": "code",
      "source": [
        "model = hmm.CategoricalHMM(n_components=n_states)\n",
        "model.startprob_ = state_probability\n",
        "model.transmat_ = transition_probability\n",
        "model.emissionprob_ = emission_probability\n"
      ],
      "metadata": {
        "id": "AGR1Z74DDwCe"
      },
      "execution_count": 10,
      "outputs": []
    },
    {
      "cell_type": "code",
      "source": [
        "G = nx.DiGraph()\n",
        "\n",
        "for i, state in enumerate(states):\n",
        "    G.add_node(state)\n",
        "\n",
        "for i, state_from in enumerate(states):\n",
        "    for j, state_to in enumerate(states):\n",
        "        prob = transition_probability[i, j]\n",
        "        if prob > 0:\n",
        "            G.add_edge(state_from, state_to, label=f'{prob:.2f}')\n",
        "\n",
        "\n",
        "pos = nx.spring_layout(G, seed=42)\n",
        "\n",
        "nx.draw(G, pos, with_labels=True, node_size=2000, node_color='lightblue', font_size=12, font_weight='bold', arrowsize=20)\n",
        "edge_labels = nx.get_edge_attributes(G, 'label')\n",
        "nx.draw_networkx_edge_labels(G, pos, edge_labels=edge_labels, font_color='red', font_size=10)\n",
        "\n",
        "plt.title('HMM State Diagram')\n",
        "plt.show()"
      ],
      "metadata": {
        "colab": {
          "base_uri": "https://localhost:8080/",
          "height": 539
        },
        "id": "aFQX-dcJEpXq",
        "outputId": "df674b9c-e7bd-4bf1-dde7-b39462ad90d2"
      },
      "execution_count": 11,
      "outputs": [
        {
          "output_type": "display_data",
          "data": {
            "text/plain": [
              "<Figure size 640x480 with 1 Axes>"
            ],
            "image/png": "[encoded data removed]"
          },
          "metadata": {}
        }
      ]
    },
    {
      "cell_type": "code",
      "source": [
        "# Define the sequence of observations\n",
        "observations_sequence = np.array([0, 0, 2, 1, 1, 2, 1, 1, 3, 1, 1, 2]).reshape(-1, 1)\n",
        "observations_sequence\n"
      ],
      "metadata": {
        "colab": {
          "base_uri": "https://localhost:8080/"
        },
        "id": "R-_ppGWpEznL",
        "outputId": "2a611353-0658-4762-c155-fb86b665c72f"
      },
      "execution_count": 14,
      "outputs": [
        {
          "output_type": "execute_result",
          "data": {
            "text/plain": [
              "array([[0],\n",
              "       [0],\n",
              "       [2],\n",
              "       [1],\n",
              "       [1],\n",
              "       [2],\n",
              "       [1],\n",
              "       [1],\n",
              "       [3],\n",
              "       [1],\n",
              "       [1],\n",
              "       [2]])"
            ]
          },
          "metadata": {},
          "execution_count": 14
        }
      ]
    },
    {
      "cell_type": "code",
      "source": [
        "# Predict the most likely sequence of hidden states\n",
        "hidden_states = model.predict(observations_sequence)\n",
        "print(\"Most likely hidden states:\", hidden_states)\n"
      ],
      "metadata": {
        "colab": {
          "base_uri": "https://localhost:8080/"
        },
        "id": "tbxhdYxqFKoE",
        "outputId": "060387aa-d447-4537-9e17-c09c77e9d0de"
      },
      "execution_count": 15,
      "outputs": [
        {
          "output_type": "stream",
          "name": "stdout",
          "text": [
            "Most likely hidden states: [2 2 0 2 0 1 0 2 0 2 0 1]\n"
          ]
        }
      ]
    }
  ]
}