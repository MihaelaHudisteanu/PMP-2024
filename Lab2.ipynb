{
  "nbformat": 4,
  "nbformat_minor": 0,
  "metadata": {
    "colab": {
      "provenance": [],
      "authorship_tag": "ABX9TyP/u3v6/jqgLsgLB3a8TGFD",
      "include_colab_link": true
    },
    "kernelspec": {
      "name": "python3",
      "display_name": "Python 3"
    },
    "language_info": {
      "name": "python"
    }
  },
  "cells": [
    {
      "cell_type": "markdown",
      "metadata": {
        "id": "view-in-github",
        "colab_type": "text"
      },
      "source": [
        "<a href=\"https://colab.research.google.com/github/MihaelaHudisteanu/PMP-2024/blob/main/Lab2.ipynb\" target=\"_parent\"><img src=\"https://colab.research.google.com/assets/colab-badge.svg\" alt=\"Open In Colab\"/></a>"
      ]
    },
    {
      "cell_type": "code",
      "execution_count": null,
      "metadata": {
        "id": "biWsJeOBmZgO"
      },
      "outputs": [],
      "source": [
        "import pymc as pm\n",
        "import numpy as np\n",
        "import matplotlib.pyplot as plt\n",
        "import arviz as az\n",
        "import random\n",
        "\n",
        "\n",
        "bile = ['rosu', 'rosu', 'rosu', 'alb', 'alb', 'alb', 'alb', 'negru', 'negru']\n",
        "\n",
        "def simulate(bile):\n",
        "  zar = random.randint(1, 6)\n",
        "  if zar in [2, 3, 5]:\n",
        "    bile.append('negru')\n",
        "  elif zar == 6:\n",
        "    bile.append('rosu')\n",
        "  else:\n",
        "    bile.append('alb')\n",
        "\n",
        "  nr = random.randint(0, len(bile)-1)\n",
        "  bila =  bile[nr]\n",
        "\n",
        "  bile.pop()\n",
        "  return bila"
      ]
    },
    {
      "cell_type": "code",
      "source": [
        "def estimare(nr):\n",
        "  cont_rosu = 0\n",
        "  cont_total = 0\n",
        "  for i in range(1, nr):\n",
        "    cont_total = cont_total + 1\n",
        "    bila = simulate(bile)\n",
        "    if bila == 'rosu':\n",
        "      cont_rosu = cont_rosu + 1\n",
        "\n",
        "  return cont_rosu/cont_total"
      ],
      "metadata": {
        "id": "ybEfptdoqKKl"
      },
      "execution_count": null,
      "outputs": []
    },
    {
      "cell_type": "code",
      "source": [
        "print(estimare(100000))"
      ],
      "metadata": {
        "colab": {
          "base_uri": "https://localhost:8080/"
        },
        "id": "csCa2g1XqQY7",
        "outputId": "fba50614-6af3-4e99-c1cb-c138eb3f312a"
      },
      "execution_count": null,
      "outputs": [
        {
          "output_type": "stream",
          "name": "stdout",
          "text": [
            "0.3157031570315703\n"
          ]
        }
      ]
    }
  ]
}